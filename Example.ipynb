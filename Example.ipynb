{
 "cells": [
  {
   "cell_type": "code",
   "execution_count": 1,
   "id": "e333bde1",
   "metadata": {},
   "outputs": [
    {
     "name": "stderr",
     "output_type": "stream",
     "text": [
      "C:\\Users\\wsxok\\anaconda3\\envs\\pytorch_gpu\\lib\\site-packages\\tqdm\\auto.py:22: TqdmWarning: IProgress not found. Please update jupyter and ipywidgets. See https://ipywidgets.readthedocs.io/en/stable/user_install.html\n",
      "  from .autonotebook import tqdm as notebook_tqdm\n",
      "parse student sequence:\t: 100%|█████████████████████████████████████████████████████| 663/663 [00:01<00:00, 531.11it/s]\n"
     ]
    },
    {
     "name": "stdout",
     "output_type": "stream",
     "text": [
      "save Q_info.npy\n",
      "save diff.npy\n",
      "save q.npy\n",
      "save a.npy\n",
      "save edge_index.npy\n",
      "save edge_type.npy\n",
      "processing done!\n",
      "--------------------------------------------------\n",
      "Epoch 0/19\n",
      "0 Train Loss:  0.6495 Train Acc:  0.6886 Train AUC:  0.7427 time consuming:  7.5721秒\n",
      "--------------------------------------------------\n",
      "Epoch 1/19\n",
      "1 Train Loss:  0.6401 Train Acc:  0.6977 Train AUC:  0.7376 time consuming:  0.1875秒\n",
      "--------------------------------------------------\n",
      "Epoch 2/19\n",
      "2 Train Loss:  0.6303 Train Acc:  0.6857 Train AUC:  0.7316 time consuming:  0.1628秒\n",
      "--------------------------------------------------\n",
      "Epoch 3/19\n",
      "3 Train Loss:  0.6261 Train Acc:  0.6736 Train AUC:  0.7311 time consuming:  0.1719秒\n",
      "--------------------------------------------------\n",
      "Epoch 4/19\n",
      "4 Train Loss:  0.6241 Train Acc:  0.6689 Train AUC:  0.7361 time consuming:  0.1790秒\n",
      "--------------------------------------------------\n",
      "Epoch 5/19\n",
      "5 Train Loss:  0.6226 Train Acc:  0.6698 Train AUC:  0.7407 time consuming:  0.1719秒\n",
      "--------------------------------------------------\n",
      "Epoch 6/19\n",
      "6 Train Loss:  0.6207 Train Acc:  0.6747 Train AUC:  0.7459 time consuming:  0.1662秒\n",
      "--------------------------------------------------\n",
      "Epoch 7/19\n",
      "7 Train Loss:  0.6191 Train Acc:  0.6766 Train AUC:  0.7502 time consuming:  0.1719秒\n",
      "--------------------------------------------------\n",
      "Epoch 8/19\n",
      "8 Train Loss:  0.6182 Train Acc:  0.6819 Train AUC:  0.7519 time consuming:  0.1775秒\n",
      "--------------------------------------------------\n",
      "Epoch 9/19\n",
      "9 Train Loss:  0.6176 Train Acc:  0.6889 Train AUC:  0.7508 time consuming:  0.1719秒\n",
      "--------------------------------------------------\n",
      "Epoch 10/19\n",
      "10 Train Loss:  0.6167 Train Acc:  0.6890 Train AUC:  0.7517 time consuming:  0.1828秒\n",
      "--------------------------------------------------\n",
      "Epoch 11/19\n",
      "11 Train Loss:  0.6162 Train Acc:  0.6866 Train AUC:  0.7524 time consuming:  0.1563秒\n",
      "--------------------------------------------------\n",
      "Epoch 12/19\n",
      "12 Train Loss:  0.6155 Train Acc:  0.6854 Train AUC:  0.7538 time consuming:  0.1923秒\n",
      "--------------------------------------------------\n",
      "Epoch 13/19\n",
      "13 Train Loss:  0.6152 Train Acc:  0.6835 Train AUC:  0.7543 time consuming:  0.1719秒\n",
      "--------------------------------------------------\n",
      "Epoch 14/19\n",
      "14 Train Loss:  0.6149 Train Acc:  0.6835 Train AUC:  0.7536 time consuming:  0.1787秒\n",
      "--------------------------------------------------\n",
      "Epoch 15/19\n",
      "15 Train Loss:  0.6144 Train Acc:  0.6880 Train AUC:  0.7521 time consuming:  0.1719秒\n",
      "--------------------------------------------------\n",
      "Epoch 16/19\n",
      "16 Train Loss:  0.6144 Train Acc:  0.6885 Train AUC:  0.7509 time consuming:  0.1693秒\n",
      "--------------------------------------------------\n",
      "Epoch 17/19\n",
      "17 Train Loss:  0.6139 Train Acc:  0.6857 Train AUC:  0.7523 time consuming:  0.1719秒\n",
      "--------------------------------------------------\n",
      "Epoch 18/19\n",
      "18 Train Loss:  0.6139 Train Acc:  0.6857 Train AUC:  0.7506 time consuming:  0.1691秒\n",
      "--------------------------------------------------\n",
      "Epoch 19/19\n",
      "19 Train Loss:  0.6135 Train Acc:  0.6861 Train AUC:  0.7505 time consuming:  0.1719秒\n",
      "Training Finish!\n",
      "\n",
      "Valid Loss:  0.6205 Valid Acc:  0.6704 Valid AUC:  0.7431 time consuming:  0.2308秒\n",
      "Validing Finish!\n",
      "\n"
     ]
    }
   ],
   "source": [
    "%run run.py"
   ]
  },
  {
   "cell_type": "code",
   "execution_count": null,
   "id": "fe2f3256",
   "metadata": {},
   "outputs": [],
   "source": []
  }
 ],
 "metadata": {
  "kernelspec": {
   "display_name": "Python (pytorch_gpu)",
   "language": "python",
   "name": "pytorch_gpu"
  },
  "language_info": {
   "codemirror_mode": {
    "name": "ipython",
    "version": 3
   },
   "file_extension": ".py",
   "mimetype": "text/x-python",
   "name": "python",
   "nbconvert_exporter": "python",
   "pygments_lexer": "ipython3",
   "version": "3.9.7"
  }
 },
 "nbformat": 4,
 "nbformat_minor": 5
}
